{
 "cells": [
  {
   "cell_type": "code",
   "id": "initial_id",
   "metadata": {
    "collapsed": true,
    "ExecuteTime": {
     "end_time": "2024-05-08T13:32:40.180792Z",
     "start_time": "2024-05-08T13:32:33.815745Z"
    }
   },
   "source": [
    "import pandas as pd\n",
    "import torch\n",
    "from pytorch_lightning import LightningModule, LightningDataModule\n",
    "from torch.nn import Sequential, LazyLinear, ReLU, MSELoss\n",
    "from torch.optim import Adam\n",
    "from torch.utils.data import random_split, DataLoader\n",
    "from torchdata.datapipes.map import SequenceWrapper, Zipper\n",
    "\n",
    "\n",
    "class MyNet(LightningModule):\n",
    "    def __init__(self, nhidden=64, lr=1e-3):\n",
    "        super().__init__()\n",
    "        \n",
    "        self.net = Sequential(\n",
    "            LazyLinear(nhidden), ReLU(),\n",
    "            LazyLinear(1)\n",
    "        )\n",
    "        self.loss = MSELoss()\n",
    "        \n",
    "        self.lr = lr\n",
    "\n",
    "    def configure_optimizers(self):\n",
    "        return Adam(self.parameters(), lr=self.lr)\n",
    "        \n",
    "    def forward(self, x):\n",
    "        return self.net(x)\n",
    "        \n",
    "    def _training_step(self, batch, loss_name):\n",
    "        inputs, targets = batch\n",
    "        outputs = self.forward(inputs)\n",
    "        loss = self.loss(outputs, targets)\n",
    "        self.log(loss_name, loss)\n",
    "        return loss\n",
    "\n",
    "    def training_step(self, batch, *args, **kwargs):\n",
    "        return self._training_step(batch, 'train')\n",
    "    def validation_step(self, batch, *args, **kwargs):\n",
    "        return self._training_step(batch, 'val')\n",
    "    \n",
    "    \n",
    "class MyData(LightningDataModule):\n",
    "    def __init__(self, batch_size):\n",
    "        super().__init__()\n",
    "        self.batch_size = batch_size\n",
    "        self.df = pd.read_csv('pantheon+SH0ES.dat', delimiter=' ')\n",
    "        self.dataset = Zipper(*(\n",
    "            SequenceWrapper(torch.tensor(self.df[keys].to_numpy(), dtype=torch.get_default_dtype()))\n",
    "            for keys in (\n",
    "                ['zCMB', 'x1', 'c', 'HOST_LOGMASS', 'HOST_ANGSEP', 'VPEC'],\n",
    "                ['mB']\n",
    "            )\n",
    "        ))\n",
    "    \n",
    "    def prepare_data(self):\n",
    "        self.train_dataset, self.val_dataset = random_split(\n",
    "            self.dataset, [0.91, 0.09],\n",
    "            generator=torch.Generator().manual_seed(42)\n",
    "        )\n",
    "\n",
    "    def train_dataloader(self):\n",
    "        return DataLoader(self.train_dataset, shuffle=True, batch_size=self.batch_size)\n",
    "    \n",
    "    def val_dataloader(self):\n",
    "        return DataLoader(self.val_dataset, shuffle=True, batch_size=self.batch_size)"
   ],
   "outputs": [],
   "execution_count": 1
  },
  {
   "metadata": {},
   "cell_type": "code",
   "source": [
    "from pytorch_lightning import Trainer\n",
    "\n",
    "net = MyNet()\n",
    "data = MyData(10)\n",
    "\n",
    "trainer = Trainer(\n",
    "    max_steps=10_000,\n",
    "    enable_model_summary=False,\n",
    ")\n",
    "trainer.fit(net, datamodule=data)"
   ],
   "id": "409ebee6a0f977a9",
   "outputs": [],
   "execution_count": null
  },
  {
   "metadata": {
    "ExecuteTime": {
     "end_time": "2024-05-08T14:13:39.697021Z",
     "start_time": "2024-05-08T14:13:39.685102Z"
    }
   },
   "cell_type": "code",
   "source": "net.eval();",
   "id": "1d788ceeccf08462",
   "outputs": [],
   "execution_count": 4
  },
  {
   "metadata": {
    "ExecuteTime": {
     "end_time": "2024-05-08T14:35:43.042048Z",
     "start_time": "2024-05-08T14:35:42.774558Z"
    }
   },
   "cell_type": "code",
   "source": [
    "zs, preds, ys = [], [], []\n",
    "for (x, y) in data.dataset:\n",
    "    zs.append(x[0].item())\n",
    "    preds.append(net(x).item())\n",
    "    ys.append(y.item())"
   ],
   "id": "f08980a0d5ff7296",
   "outputs": [],
   "execution_count": 10
  },
  {
   "metadata": {
    "ExecuteTime": {
     "end_time": "2024-05-08T14:36:16.107667Z",
     "start_time": "2024-05-08T14:36:15.663324Z"
    }
   },
   "cell_type": "code",
   "source": [
    "from matplotlib import pyplot as plt\n",
    "\n",
    "plt.plot(zs, preds, 'g.')\n",
    "plt.plot(zs, ys, 'r.')\n",
    "plt.gca().set(xlabel='z', ylabel='mB');\n",
    "# plt.gca().set(\n",
    "#     xlabel='true', ylabel='predicted'\n",
    "# );"
   ],
   "id": "101cfcb455ed0446",
   "outputs": [
    {
     "data": {
      "text/plain": [
       "<Figure size 614.4x460.8 with 1 Axes>"
      ],
      "image/png": "[encoded data removed]"
     },
     "metadata": {},
     "output_type": "display_data"
    }
   ],
   "execution_count": 11
  }
 ],
 "metadata": {
  "kernelspec": {
   "display_name": "Python 3",
   "language": "python",
   "name": "python3"
  },
  "language_info": {
   "codemirror_mode": {
    "name": "ipython",
    "version": 2
   },
   "file_extension": ".py",
   "mimetype": "text/x-python",
   "name": "python",
   "nbconvert_exporter": "python",
   "pygments_lexer": "ipython2",
   "version": "2.7.6"
  }
 },
 "nbformat": 4,
 "nbformat_minor": 5
}
