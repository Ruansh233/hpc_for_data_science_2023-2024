{
  "nbformat": 4,
  "nbformat_minor": 0,
  "metadata": {
    "colab": {
      "provenance": [],
      "gpuType": "T4",
      "toc_visible": true
    },
    "kernelspec": {
      "name": "python3",
      "display_name": "Python 3"
    },
    "language_info": {
      "name": "python"
    },
    "accelerator": "GPU"
  },
  "cells": [
    {
      "cell_type": "code",
      "execution_count": 1,
      "metadata": {
        "id": "edlzYMw4BFi_"
      },
      "outputs": [],
      "source": [
        "import cupy as cp\n",
        "import numpy as np\n",
        "import time\n",
        "\n",
        "# Define a CUDA kernel as a raw string.\n",
        "cuda_kernel = \"\"\"\n",
        "extern \"C\" __global__\n",
        "void add_arrays(const float * x, const float * y, float * z, int size)\n",
        "{\n",
        "    int tid = blockIdx.x * blockDim.x + threadIdx.x;\n",
        "    if (tid < size)\n",
        "      {\n",
        "        z[tid] = x[tid] + y[tid];\n",
        "      }\n",
        "}\n",
        "\"\"\"\n",
        "\n",
        "# Compile the CUDA kernel.\n",
        "add_kernel = cp.RawKernel(cuda_kernel, 'add_arrays')\n",
        "add_kernel.compile()\n",
        "\n",
        "# Define array size.\n",
        "size = int(1e8)\n",
        "\n",
        "# Create random arrays.\n",
        "np.random.seed(0)\n",
        "x = np.random.rand(size).astype(np.float32)\n",
        "y = np.random.rand(size).astype(np.float32)"
      ]
    },
    {
      "cell_type": "code",
      "source": [
        "# Copy arrays to device.\n",
        "x_gpu = cp.asarray(x)\n",
        "y_gpu = cp.asarray(y)\n",
        "z_gpu = cp.zeros_like(x)\n",
        "\n",
        "# Grid and block sizes.\n",
        "block_size = 256\n",
        "grid_size = (size + block_size - 1) // block_size\n",
        "\n",
        "# Launch the kernel.\n",
        "start_gpu = time.time()\n",
        "add_kernel((grid_size,), (block_size,), (x_gpu, y_gpu, z_gpu, size))  # grid, block and arguments\n",
        "end_gpu = time.time()\n",
        "time_gpu = end_gpu - start_gpu\n",
        "\n",
        "# Check the result (for example, by printing some of the output).\n",
        "print(z_gpu[:10])\n",
        "print(f\"Elapsed time: {time_gpu}ms\")"
      ],
      "metadata": {
        "colab": {
          "base_uri": "https://localhost:8080/"
        },
        "id": "trW2Z-xkf-ji",
        "outputId": "98de6b8e-f309-4da0-c575-7d85048c168f"
      },
      "execution_count": 3,
      "outputs": [
        {
          "output_type": "stream",
          "name": "stdout",
          "text": [
            "[1.3591064 1.033908  1.1169204 1.4010417 0.5934265 0.7567003 1.0690601\n",
            " 1.4245734 1.9492707 0.7909479]\n",
            "Elapsed time: 0.00013494491577148438ms\n"
          ]
        }
      ]
    },
    {
      "cell_type": "code",
      "source": [
        "def add_arrays(x, y):\n",
        "    return x + y\n",
        "\n",
        "# Perform the addition.\n",
        "start_cpu = time.time()\n",
        "z = add_arrays(x, y)\n",
        "end_cpu = time.time()\n",
        "time_cpu = end_cpu - start_cpu\n",
        "\n",
        "# Check the result (for example, by printing some of the output).\n",
        "print(z[:10])\n",
        "print(f\"Elapsed time: {time_cpu}ms\")"
      ],
      "metadata": {
        "colab": {
          "base_uri": "https://localhost:8080/"
        },
        "id": "CHMPqqQbDUMl",
        "outputId": "ab57910a-db20-4d8d-8827-b368c2643048"
      },
      "execution_count": 4,
      "outputs": [
        {
          "output_type": "stream",
          "name": "stdout",
          "text": [
            "[1.3591064 1.033908  1.1169204 1.4010417 0.5934265 0.7567003 1.0690601\n",
            " 1.4245734 1.9492707 0.7909479]\n",
            "Elapsed time: 0.1570296287536621ms\n"
          ]
        }
      ]
    },
    {
      "cell_type": "code",
      "source": [
        "print(f\"Speedup: {(time_cpu) / (time_gpu)}\")"
      ],
      "metadata": {
        "colab": {
          "base_uri": "https://localhost:8080/"
        },
        "id": "NC_Z_xgvE-hC",
        "outputId": "51d67ceb-8e00-4877-bed6-51ec8d2d2298"
      },
      "execution_count": 5,
      "outputs": [
        {
          "output_type": "stream",
          "name": "stdout",
          "text": [
            "Speedup: 1163.6572438162543\n"
          ]
        }
      ]
    }
  ]
}